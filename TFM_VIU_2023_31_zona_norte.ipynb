{
  "nbformat": 4,
  "nbformat_minor": 0,
  "metadata": {
    "colab": {
      "provenance": [],
      "authorship_tag": "ABX9TyN09erv939ruc7HlRbaIxz8",
      "include_colab_link": true
    },
    "kernelspec": {
      "name": "python3",
      "display_name": "Python 3"
    },
    "language_info": {
      "name": "python"
    }
  },
  "cells": [
    {
      "cell_type": "markdown",
      "metadata": {
        "id": "view-in-github",
        "colab_type": "text"
      },
      "source": [
        "<a href=\"https://colab.research.google.com/github/RodrigoEduard/Codigos-TFM-VIU-2023/blob/Analisis_y_Visualizacion_de_Secuencias_Zona_Norte/TFM_VIU_2023_31_zona_norte.ipynb\" target=\"_parent\"><img src=\"https://colab.research.google.com/assets/colab-badge.svg\" alt=\"Open In Colab\"/></a>"
      ]
    },
    {
      "cell_type": "code",
      "execution_count": null,
      "metadata": {
        "id": "0M_cqlNWJVDS"
      },
      "outputs": [],
      "source": [
        "# ZONA 1 (NORTE): XV, I, II, III, IV: 24 comunas ----\n",
        "#   DE ARICA Y PARINACOTA(1), DE TARAPACA(3), DE ANTOFAGASTA(6), DE ATACAMA(6), DE COQUIMBO(8)\n",
        "library(readxl)\n",
        "ZNO <- read_excel(\"01-zonaNorte.xlsx\")\n",
        "ZNO <- as.data.frame(ZNO)\n",
        "rownames(ZNO) <-  ZNO$Comuna\n",
        "# ************************************************************************\n",
        "library(TraMineR)\n",
        "seqstatl(ZNO[, 1:98])\n",
        "\n",
        "ZNO.alphabet <- c(\"sobre\",\"igual\",\"bajo\",\"sin_juzgado\")\n",
        "ZNO.labels <- c(\"Sobre\",\"Igual\",\"Bajo\",\"Sin juzgado\")\n",
        "ZNO.scodes <- c(\"SO\", \"IG\", \"BA\", \"SJ\")\n",
        "ZNO.seq <- seqdef(ZNO, 2:98, alphabet = ZNO.alphabet, states = ZNO.scodes,\n",
        "                  labels = ZNO.labels, xtstep = 4)\n",
        "colores <- c( \"#D98880\",\"#2980B9\",\"#73C6B6\",\"#EB984E\")  #Rojo, Azul, Verde, Naranja   https://htmlcolorcodes.com/\n",
        "\n",
        "\n",
        "\n",
        "######################## DESPUES BORRAR\n",
        "library(\"WeightedCluster\")\n",
        "aggMvad <- wcAggregateCases(ZNO[, 2:98], weights=ZNO$weight)\n",
        "## Creating state sequence object\n",
        "ZNO.seq <- seqdef(ZNO[aggMvad$aggIndex, 17:86], weights=aggMvad$aggWeights)\n",
        "## COmpute distance using Hamming distance\n",
        "diss <- seqdist(ZNO.seq, method=\"HAM\")\n",
        "## Ward clustering\n",
        "wardCluster <- hclust(as.dist(diss), method=\"ward\", members=aggMvad$aggWeights)\n",
        "## Computing clustrange from Ward clustering\n",
        "wardRange <- as.clustrange(wardCluster, diss=diss,\n",
        "                           weights=aggMvad$aggWeights, ncluster=4)\n",
        "## Plot all statistics (standardized)\n",
        "dev.new()\n",
        "plot(wardRange, stat=\"all\", norm=\"zscoremed\", lwd=3)\n",
        "## Plot HC, RHC and ASW\n",
        "plot(wardRange, stat=c(\"HC\", \"RHC\", \"ASWw\"), norm=\"zscore\", lwd=3)\n",
        "##########################\n",
        "\n",
        "# ***************Visualización de conjuntos de datos **********Visualize*************************\n",
        "dev.new()\n",
        "par(mar = c(6.0, 8.0, 4.0, 0.2)) #inferior, izquierdo, superior y derecho\n",
        "\n",
        "#Todas las secuencias\n",
        "seqIplot(ZNO.seq, with.legend = FALSE, border = \"grey\", ytlab = \"id\", ylas = 1, ylab = \"\", cex.axis = 1.0 , xtlab = FALSE, cpal = colores, main = 'all sequences: 24 seq. (n=24)', xtstep = 2)\n",
        "text(x = seq(1, length(colnames(ZNO.seq)), by = 2)-.5, y = par(\"usr\")[3] - 0.6, labels = colnames(ZNO.seq)[seq(1, length(colnames(ZNO.seq)), by = 2)], srt = 90, adj = c(1, 0.5), xpd = TRUE, cex = 1.1)\n",
        "\n",
        "# Cálculo y visualización de estadísticas descriptivas *******Describe******************\n",
        "dev.new()\n",
        "par(mar = c(5.2, 3.5, 2.0, 0.0)) #inferior, izquierdo, superior y derecho\n",
        "#Distribución de estados (Porcentaje de cada estado en el tiempo)\n",
        "seqdplot(ZNO.seq, with.legend = FALSE, border = \"grey\", cpal = colores, main = \"Rel. Freq.(n=24)\", ylab= \" \",xtlab = FALSE, cex.axis = 1.1);\n",
        "grid(nx = 0, ny = 10, lty = 2, col = \"black\", lwd = 1)\n",
        "axis(side = 1, at = seq(1, length(colnames(ZNO.seq)), by = 2)-.5, labels = colnames(ZNO.seq)[seq(1, length(colnames(ZNO.seq)), by = 2)], las = 2, cex.axis = 1.1)\n",
        "\n",
        "seqmsplot(ZNO.seq, info = FALSE, with.legend = FALSE, border = \"grey\", cpal = colores, main = \"State freq. (n=24)\", ylab= \" \", xtlab = FALSE, cex.axis = 1.2, ytstep = 2)\n",
        "grid(nx = 0, ny = 12, lty = 2, col = \"black\", lwd = 1)\n",
        "axis(side = 1, at = seq(1, length(colnames(ZNO.seq)), by = 2)-0.5, labels = colnames(ZNO.seq)[seq(1, length(colnames(ZNO.seq)), by = 2)], las = 2, cex.axis = 1.1, line = 0.6)\n",
        "\n",
        "# Typology**************************************************************Typology********\n",
        "dev.new()\n",
        "par(mar = c(6.0, 5.0, 4.0, 0.2)) #inferior, izquierdo, superior y derecho\n",
        "dist.om1 <- seqdist(ZNO.seq, method = \"OM\", indel = 1, sm = \"TRATE\")\n",
        "cost_matrix <- seqsubm(zona.seq, method = \"TRATE\")\n",
        "library(cluster)\n",
        "clusterward1 <- agnes(dist.om1, diss = TRUE, method = \"ward\")\n",
        "\n",
        "plot(clusterward1, which.plot = 2)\n",
        "\n",
        "rect.hclust(clusterward1,k=3,border=\"red\")\n",
        "cl1.4 <- cutree(clusterward1, k = 3)\n",
        "cl1.4fac <- factor(cl1.4, labels = paste(\"Type\", 1:3))\n",
        "\n",
        "\n",
        "seqdplot(ZNO.seq[cl1.4fac == \"Type 1\",], group = cl1.4fac[cl1.4fac == \"Type 1\"], border = \"grey\",cpal = colores, with.legend = FALSE, ylab= \" \",xtlab = FALSE, cex.axis = 1.2);\n",
        "grid(nx = 0, ny = NULL, lty = 2, col = \"black\", lwd = 1)\n",
        "axis(side = 1, at = seq(1, length(colnames(ZNO.seq)), by = 2)-.5, labels = colnames(ZNO.seq)[seq(1, length(colnames(ZNO.seq)), by = 2)], las = 2, cex.axis = 1.1)\n",
        "\n",
        "seqdplot(ZNO.seq[cl1.4fac == \"Type 2\",], group = cl1.4fac[cl1.4fac == \"Type 2\"], border = \"grey\",cpal = colores, with.legend = FALSE, ylab= \" \",xtlab = FALSE, cex.axis = 1.2);\n",
        "grid(nx = 0, ny = NULL, lty = 2, col = \"black\", lwd = 1)\n",
        "axis(side = 1, at = seq(1, length(colnames(ZNO.seq)), by = 2)-.5, labels = colnames(ZNO.seq)[seq(1, length(colnames(ZNO.seq)), by = 2)], las = 2, cex.axis = 1.1)\n",
        "\n",
        "seqdplot(ZNO.seq[cl1.4fac == \"Type 3\",], group = cl1.4fac[cl1.4fac == \"Type 3\"], border = \"grey\",cpal = colores, with.legend = FALSE, , ylab= \" \",xtlab = FALSE, cex.axis = 1.2);\n",
        "grid(nx = 0, ny = NULL, lty = 2, col = \"black\", lwd = 1)\n",
        "axis(side = 1, at = seq(1, length(colnames(ZNO.seq)), by = 2)-.5, labels = colnames(ZNO.seq)[seq(1, length(colnames(ZNO.seq)), by = 2)], las = 2, cex.axis = 1.1)\n"
      ]
    }
  ]
}