{
  "nbformat": 4,
  "nbformat_minor": 0,
  "metadata": {
    "colab": {
      "provenance": [],
      "authorship_tag": "ABX9TyOjg9T1H5jKRajdB8m4aPS2",
      "include_colab_link": true
    },
    "kernelspec": {
      "name": "python3",
      "display_name": "Python 3"
    },
    "language_info": {
      "name": "python"
    }
  },
  "cells": [
    {
      "cell_type": "markdown",
      "metadata": {
        "id": "view-in-github",
        "colab_type": "text"
      },
      "source": [
        "<a href=\"https://colab.research.google.com/github/RodrigoEduard/Codigos-TFM-VIU-2023/blob/Analisis_y_Visualizacion_de_Secuencias_Zona_Austral/TFM_VIU_2023_35_zona_austral.ipynb\" target=\"_parent\"><img src=\"https://colab.research.google.com/assets/colab-badge.svg\" alt=\"Open In Colab\"/></a>"
      ]
    },
    {
      "cell_type": "code",
      "execution_count": null,
      "metadata": {
        "id": "YHJowWMTasYZ"
      },
      "outputs": [],
      "source": [
        "# ZONA 5 (AUSTRAL): XI y XII: 9\n",
        "#   DE AISEN DEL GRAL. C. IBAÑEZ DEL CAMPO(5), DE MAGALLANES Y DE LA ANTARTICA CHILENA(4)\n",
        "\n",
        "library(readxl)\n",
        "ZAU <- read_excel(\"05-ZonaSurAustral.xlsx\")\n",
        "ZAU <- as.data.frame(ZAU)\n",
        "rownames(ZAU) <-  ZAU$id\n",
        "# DATA >*************************Data***********************************************\n",
        "library(TraMineR)\n",
        "seqstatl(ZAU[, 1:97])\n",
        "\n",
        "ZAU.alphabet <- c(\"SOBRE\",\"IGUAL\",\"BAJO\",\"SIN_REG\")\n",
        "ZAU.labels <- c(\"SOBRE\",\"IGUAL\",\"BAJO\",\"SIN_REG\")\n",
        "ZAU.scodes <- c(\"SO\", \"IG\", \"BA\", \"SR\")\n",
        "ZAU.seq <- seqdef(ZAU, 2:97, alphabet = ZAU.alphabet, states = ZAU.scodes,\n",
        "                  labels = ZAU.labels, xtstep = 4)\n",
        "colores <- c( \"#D98880\",\"#2980B9\",\"#73C6B6\",\"#EB984E\")  #Rojo, Azul, Verde, Naranja   https://htmlcolorcodes.com/\n",
        "\n",
        "# Visualización de conjuntos de datos **********Visualize********************************\n",
        "#pdf(\"graf1.pdf\", height = 10, width = 10)\n",
        "dev.new()\n",
        "par(mfrow = c(1, 1))\n",
        "par(mar = c(4.0, 7.0, 4.0, 4.0)) #inferior, izquierdo, superior y derecho\n",
        "\n",
        "seqIplot(ZAU.seq, with.legend = FALSE, border = \"black\", ytlab = \"id\", ylas = 1, cex.axis = 0.5, xtlab = FALSE, cpal = colores)\n",
        "text(x = seq_along(colnames(ZAU.seq)), y = par(\"usr\")[3] - 0.3, labels = colnames(ZAU.seq), srt = 90, adj = c(1, 0.5), xpd = TRUE, cex = 0.7)\n",
        "\n",
        "seqIplot(ZAU.seq, sortv = \"from.start\", with.legend = FALSE, border = \"black\", ytlab = \"id\", ylas = 1, cex.axis = 0.6, xtlab = FALSE, cpal = colores)\n",
        "text(x = seq_along(colnames(ZAU.seq)), y = par(\"usr\")[3] - 0.3, labels = colnames(ZAU.seq), srt = 90, adj = c(1, 0.5), xpd = TRUE, cex = 0.7)\n",
        "\n",
        "seqfplot(ZAU.seq, with.legend = FALSE, border = \"black\", cpal = colores)\n",
        "text(x = seq_along(colnames(ZAU.seq)), y = par(\"usr\")[3] - 0.3, labels = colnames(ZAU.seq), srt = 90, adj = c(1, 0.5), xpd = TRUE, cex = 0.7)\n",
        "\n",
        "seqlegend(ZAU.seq, cpal = colores)\n",
        "dev.off()\n",
        "\n",
        "# Cálculo y visualización de estadísticas descriptivas *******Describe******************\n",
        "dev.new()\n",
        "par(mfrow = c(2, 2))\n",
        "seqdplot(ZAU.seq, with.legend = FALSE, border = \"grey\",cpal = colores); grid(col=\"black\")\n",
        "seqHtplot(ZAU.seq); grid(col = \"red\")\n",
        "seqmsplot(ZAU.seq, with.legend = FALSE, border = \"grey\",cpal = colores); grid(col=\"black\")\n",
        "seqmtplot(ZAU.seq, with.legend = FALSE,cpal = colores); grid(col = \"red\")\n",
        "dev.off()\n",
        "\n",
        "# Typology**************************************************************Typology********\n",
        "dev.new()\n",
        "dist.om1 <- seqdist(ZAU.seq, method = \"OM\", indel = 1, sm = \"TRATE\")\n",
        "library(cluster)\n",
        "clusterward1 <- agnes(dist.om1, diss = TRUE, method = \"ward\")\n",
        "#library(factoextra)\n",
        "#fviz_nbclust(dist.om1, FUNcluster = hcut, method = \"silhouette\")\n",
        "plot(clusterward1, which.plot = 2)\n",
        "\n",
        "rect.hclust(clusterward1,k=2,border=\"red\")\n",
        "cl1.4 <- cutree(clusterward1, k = 2)\n",
        "cl1.4fac <- factor(cl1.4, labels = paste(\"Type\", 1:2))\n",
        "\n",
        "seqIplot(ZAU.seq, group = cl1.4fac, sortv = \"from.start\", border = \"black\",cpal = colores)\n",
        "\n",
        "seqdplot(ZAU.seq, group = cl1.4fac, border = \"black\",cpal = colores)\n",
        "\n",
        "seqrplot(ZAU.seq, diss = dist.om1, group = cl1.4fac, border = \"black\",cpal = colores)"
      ]
    }
  ]
}