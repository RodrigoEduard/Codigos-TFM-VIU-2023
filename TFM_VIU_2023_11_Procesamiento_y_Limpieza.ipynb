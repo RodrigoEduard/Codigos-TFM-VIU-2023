{
  "nbformat": 4,
  "nbformat_minor": 0,
  "metadata": {
    "colab": {
      "provenance": [],
      "authorship_tag": "ABX9TyOsht9hVGGOzfEqxlhWhs9d",
      "include_colab_link": true
    },
    "kernelspec": {
      "name": "ir",
      "display_name": "R"
    },
    "language_info": {
      "name": "R"
    }
  },
  "cells": [
    {
      "cell_type": "markdown",
      "metadata": {
        "id": "view-in-github",
        "colab_type": "text"
      },
      "source": [
        "<a href=\"https://colab.research.google.com/github/RodrigoEduard/Codigos-TFM-VIU-2023/blob/Procesamiento_y_Limpieza_de_Datos/TFM_VIU_2023_11_Procesamiento_y_Limpieza.ipynb\" target=\"_parent\"><img src=\"https://colab.research.google.com/assets/colab-badge.svg\" alt=\"Open In Colab\"/></a>"
      ]
    },
    {
      "cell_type": "markdown",
      "source": [
        "  ---\n",
        "## Script para el procesamiento y limpieza de datos.\n",
        "\n",
        "---\n",
        "\n",
        "**Autor**: Rodrigo Hernández A.  \n",
        "**Tutora**: Dra. Nery Sofía Huerta.  \n",
        "**Fecha**: 2 de Octubre, 2023.  \n",
        "\n",
        "---\n",
        "\n",
        "### Descripción:\n",
        "Este script realiza una serie de operaciones de limpieza y procesamiento en el conjunto de datos.\n",
        "\n",
        "**Entorno**: R en Google Colab  \n",
        "**Proyecto**: TFM - Máster en Big Data y Ciencia de Datos - Universidad Internacional de Valencia (VIU)\n",
        "\n",
        "---"
      ],
      "metadata": {
        "id": "yzkMwnv-H7vU"
      }
    },
    {
      "cell_type": "code",
      "source": [
        "# -- 1 -- Instalación de paquetes necesarios ----\n",
        "install.packages(\"readxl\")\n",
        "install.packages(\"dplyr\")\n",
        "install.packages(\"writexl\")"
      ],
      "metadata": {
        "colab": {
          "base_uri": "https://localhost:8080/"
        },
        "id": "pDfvKitmbfRl",
        "outputId": "d93da94c-b371-4d04-c8f8-1857247cad25"
      },
      "execution_count": null,
      "outputs": [
        {
          "output_type": "stream",
          "name": "stderr",
          "text": [
            "Installing package into ‘/usr/local/lib/R/site-library’\n",
            "(as ‘lib’ is unspecified)\n",
            "\n",
            "Installing package into ‘/usr/local/lib/R/site-library’\n",
            "(as ‘lib’ is unspecified)\n",
            "\n",
            "Installing package into ‘/usr/local/lib/R/site-library’\n",
            "(as ‘lib’ is unspecified)\n",
            "\n"
          ]
        }
      ]
    },
    {
      "cell_type": "code",
      "source": [
        "# -- 2 -- Importación de paquetes necesarios ----\n",
        "library(readxl) # Paquete para leer archivos Excel (.xls y .xlsx)\n",
        "library(dplyr) # Paquete que contiene herramientas para la manipulación y transformación de datos.\n",
        "library(writexl) # Paquete para escribir datos en formato Excel (.xlsx)"
      ],
      "metadata": {
        "id": "mTW_QyfwSxPV"
      },
      "execution_count": null,
      "outputs": []
    },
    {
      "cell_type": "code",
      "execution_count": null,
      "metadata": {
        "id": "P7NrSPpWEn-0",
        "colab": {
          "base_uri": "https://localhost:8080/"
        },
        "outputId": "0451435f-67b8-4246-c0bd-89502f7eef73"
      },
      "outputs": [
        {
          "output_type": "stream",
          "name": "stdout",
          "text": [
            "[1] \"Datasets cargados con éxito\"\n"
          ]
        }
      ],
      "source": [
        "# -- 3 -- Lectura y carga de los datasets ----\n",
        "# Fuente de datos: https://numeros.pjud.cl/Descargas. Materia: \"Penal\"\n",
        "# Descarga alternativa: https://drive.google.com/drive/folders/1nyZ_bwVZIJUMBoozzjs8pi3jO1igzb7N\n",
        "penal_2015 <- read_excel(\"/content/penal2015.xlsx\")\n",
        "penal_2016 <- read_excel(\"/content/penal2016.xlsx\")\n",
        "penal_2017 <- read_excel(\"/content/penal2017.xlsx\")\n",
        "penal_2018 <- read_excel(\"/content/penal2018.xlsx\")\n",
        "penal_2019 <- read_excel(\"/content/penal2019.xlsx\")\n",
        "penal_2020 <- read_excel(\"/content/penal2020.xlsx\")\n",
        "penal_2021 <- read_excel(\"/content/penal2021.xlsx\")\n",
        "penal_2022 <- read_excel(\"/content/penal2022.xlsx\")\n",
        "penal_2023 <- read_excel(\"/content/Penal2023Parcial.xlsx\")\n",
        "print(\"Datasets cargados con éxito\")"
      ]
    },
    {
      "cell_type": "code",
      "source": [
        "# -- 4 -- Preprocesamiento de datos I: Eliminación de columnas innecesarias ----\n",
        "penal_2015 <- select(penal_2015, -c(\"(*)Se agregó columna total de ingresos, dado que en algunas causas, la materia se repite (error de tramitación)\"))\n",
        "penal_2016 <- select(penal_2016, -c(\"(*)Se agregó columna total de ingresos, dado que en algunas causas, la materia se repite (error de tramitación)\"))\n",
        "penal_2017 <- select(penal_2017, -c(\"(*)Se agregó columna total de ingresos, dado que en algunas causas, la materia se repite (error de tramitación)\"))\n",
        "penal_2018 <- select(penal_2018, -c(\"(*)Se agregó columna total de ingresos, dado que en algunas causas, la materia se repite (error de tramitación)\"))\n",
        "penal_2019 <- select(penal_2019, -c(\"(*)Se agregó columna total de ingresos, dado que en algunas causas, la materia se repite (error de tramitación)\"))\n",
        "penal_2015 <- select(penal_2015, -c(\"N°\"))\n",
        "penal_2016 <- select(penal_2016, -c(\"N°\"))\n",
        "penal_2017 <- select(penal_2017, -c(\"N°\"))\n",
        "penal_2018 <- select(penal_2018, -c(\"N°\"))\n",
        "penal_2019 <- select(penal_2019, -c(\"N°\"))\n",
        "penal_2020 <- select(penal_2020, -c(\"N°\"))\n",
        "penal_2021 <- select(penal_2021, -c(\"RUC\"))\n",
        "penal_2022 <- select(penal_2022, -c(\"RUC\"))\n",
        "penal_2023 <- select(penal_2023, -c(\"RUC\"))\n",
        "penal_2021 <- select(penal_2021, -c(\"FORMA INICIO\"))\n",
        "penal_2021 <- select(penal_2021, -c(\"TIPO INGRESO\"))\n",
        "penal_2021 <- select(penal_2021, -c(\"SISTEMA\"))\n",
        "penal_2022 <- select(penal_2022, -c(\"FORMA INICIO\"))\n",
        "penal_2022 <- select(penal_2022, -c(\"TIPO INGRESO\"))\n",
        "penal_2022 <- select(penal_2022, -c(\"SISTEMA\"))\n",
        "penal_2022 <- select(penal_2022, -c(\"ID_CAUSA\"))\n",
        "penal_2023 <- select(penal_2023, -c(\"FORMA INICIO\"))\n",
        "penal_2023 <- select(penal_2023, -c(\"TIPO INGRESO\"))\n",
        "penal_2023 <- select(penal_2023, -c(\"SISTEMA\"))\n",
        "penal_2023 <- select(penal_2023, -c(\"CRR IDCAUSA\"))\n",
        "penal_2015 <- select(penal_2015, -c(\"COD. CORTE\"))\n",
        "penal_2016 <- select(penal_2016, -c(\"COD. CORTE\"))\n",
        "penal_2017 <- select(penal_2017, -c(\"COD. CORTE\"))\n",
        "penal_2018 <- select(penal_2018, -c(\"COD. CORTE\"))\n",
        "penal_2019 <- select(penal_2019, -c(\"COD. CORTE\"))\n",
        "penal_2020 <- select(penal_2020, -c(\"COD. CORTE\"))\n",
        "penal_2021 <- select(penal_2021, -c(\"COD. CORTE\"))\n",
        "penal_2022 <- select(penal_2022, -c(\"CÓDIGO CORTE\"))\n",
        "penal_2023 <- select(penal_2023, -c(\"CÓDIGO CORTE\"))\n",
        "penal_2015 <- select(penal_2015, -c(\"COD. TRIBUNAL\"))\n",
        "penal_2016 <- select(penal_2016, -c(\"COD. TRIBUNAL\"))\n",
        "penal_2017 <- select(penal_2017, -c(\"COD. TRIBUNAL\"))\n",
        "penal_2018 <- select(penal_2018, -c(\"COD. TRIBUNAL\"))\n",
        "penal_2019 <- select(penal_2019, -c(\"COD. TRIBUNAL\"))\n",
        "penal_2020 <- select(penal_2020, -c(\"COD. TRIBUNAL\"))\n",
        "penal_2021 <- select(penal_2021, -c(\"COD. TRIBUNAL\"))\n",
        "penal_2022 <- select(penal_2022, -c(\"CÓDIGO TRIBUNAL\"))\n",
        "penal_2023 <- select(penal_2023, -c(\"CÓDIGO TRIBUNAL\"))\n",
        "penal_2015 <- select(penal_2015, -c(\"FECHA INGRESO\"))\n",
        "penal_2016 <- select(penal_2016, -c(\"FECHA INGRESO\"))\n",
        "penal_2017 <- select(penal_2017, -c(\"FECHA INGRESO\"))\n",
        "penal_2018 <- select(penal_2018, -c(\"FECHA INGRESO\"))\n",
        "penal_2019 <- select(penal_2019, -c(\"FECHA INGRESO\"))\n",
        "penal_2020 <- select(penal_2020, -c(\"FECHA INGRESO\"))\n",
        "penal_2021 <- select(penal_2021, -c(\"FECHA INGRESO\"))\n",
        "penal_2022 <- select(penal_2022, -c(\"FECHA INGRESO\"))\n",
        "penal_2023 <- select(penal_2023, -c(\"FECHA INGRESO\"))\n",
        "penal_2015 <- select(penal_2015, -c(\"CORTE\"))\n",
        "penal_2016 <- select(penal_2016, -c(\"CORTE\"))\n",
        "penal_2017 <- select(penal_2017, -c(\"CORTE\"))\n",
        "penal_2018 <- select(penal_2018, -c(\"CORTE\"))\n",
        "penal_2019 <- select(penal_2019, -c(\"CORTE\"))\n",
        "penal_2020 <- select(penal_2020, -c(\"CORTE\"))\n",
        "penal_2021 <- select(penal_2021, -c(\"CORTE\"))\n",
        "penal_2022 <- select(penal_2022, -c(\"CORTE\"))\n",
        "penal_2023 <- select(penal_2023, -c(\"CORTE\"))\n",
        "print(\"Columnas innecesarias eliminadas\")"
      ],
      "metadata": {
        "id": "8gSaq0_9S5oR",
        "colab": {
          "base_uri": "https://localhost:8080/"
        },
        "outputId": "bf524aef-f33d-401e-b68a-c3e387eb2fac"
      },
      "execution_count": null,
      "outputs": [
        {
          "output_type": "stream",
          "name": "stdout",
          "text": [
            "[1] \"Columnas innecesarias eliminadas\"\n"
          ]
        }
      ]
    },
    {
      "cell_type": "code",
      "source": [
        "# -- 5 -- Preprocesamiento de datos II: Renombramiento de columnas ----\n",
        "penal_2015 <- rename(penal_2015, \"TOTAL INGRESOS POR MATERIAS\" = \"TOTAL INGRESOS POR MATERIAS(*)\")"
      ],
      "metadata": {
        "id": "PR_19XCRS-G8"
      },
      "execution_count": null,
      "outputs": []
    },
    {
      "cell_type": "code",
      "source": [
        "# -- 6 -- Características: Adición de columna\n",
        "penal_2021$`TOTAL INGRESOS POR MATERIAS` <- 1"
      ],
      "metadata": {
        "id": "vNeaWhXyU3Pa"
      },
      "execution_count": null,
      "outputs": []
    },
    {
      "cell_type": "code",
      "source": [
        "# -- 7 -- Integración de datos: Unificación de datasets de 2015 a 2023\n",
        "penal_2015_2023 = rbind(penal_2015,penal_2016,penal_2017,penal_2018,penal_2019,penal_2020,penal_2021,penal_2022,penal_2023)\n",
        "penal_2015_2023 <- select(penal_2015_2023, -c(\"TIPO CAUSA\"))"
      ],
      "metadata": {
        "id": "Fxnex1YEU6I5"
      },
      "execution_count": null,
      "outputs": []
    },
    {
      "cell_type": "code",
      "source": [
        "# -- 8 -- Exploración de datos: Identificación de códigos únicos para delitos relacionados con la ebriedad ----\n",
        "penal_ebriedad <- subset(penal_2015_2023, grepl(\"EBRIEDAD\", MATERIA, ignore.case = TRUE))\n",
        "penal_conduc   <- subset(penal_2015_2023, grepl(\"CONDUC.\", MATERIA, ignore.case = TRUE))"
      ],
      "metadata": {
        "id": "YB28LmcjU8dr"
      },
      "execution_count": null,
      "outputs": []
    },
    {
      "cell_type": "code",
      "source": [
        "# -- 9 -- Filtrado de datos: Extracción de registros de conducción en estado de ebriedad ----\n",
        "codigos_ebriedad_unicos1 <- unique(penal_ebriedad$`COD. MATERIA`)\n",
        "codigos_ebriedad_unicos2 <- unique(penal_conduc$`COD. MATERIA`)\n",
        "codigos_ebriedad_unicos = c(codigos_ebriedad_unicos1, codigos_ebriedad_unicos2)\n",
        "codigos_ebriedad_unicos = unique(codigos_ebriedad_unicos)\n",
        "print(codigos_ebriedad_unicos)"
      ],
      "metadata": {
        "id": "miNDaUzLU-0q",
        "colab": {
          "base_uri": "https://localhost:8080/"
        },
        "outputId": "fd3a7674-feea-4bd1-c951-25772ac0951b"
      },
      "execution_count": null,
      "outputs": [
        {
          "output_type": "stream",
          "name": "stdout",
          "text": [
            " [1] 14052 14001 14006 14008 14004 14002 14009 14007 14003  4011 12072 12074\n",
            "[13] 14057 12078 12079 12080 12083 12075 15001   860 12185 12184\n"
          ]
        }
      ]
    },
    {
      "cell_type": "code",
      "source": [
        "# -- 10 -- Nuevo DF con sólo MATERIA de conducción en estado de ebriedad----\n",
        "codigos_materia <- c(4011,14001,14002,14003,14004,14006,14007,14008,14009,14052,12075,12078,12079,12080,12083,12184,12185)\n",
        "conduccion_2015_2023 <- penal_2015_2023[penal_2015_2023$\"COD. MATERIA\" %in% codigos_materia, ]"
      ],
      "metadata": {
        "id": "rxdpwE-EVAx5"
      },
      "execution_count": null,
      "outputs": []
    },
    {
      "cell_type": "code",
      "source": [
        "# -- 11 -- Preprocesamiento de datos III: Transformación de valores en el dataframe\n",
        "conduccion_2015_2023 <- conduccion_2015_2023 %>%\n",
        "  mutate(TRIBUNAL = ifelse(TRIBUNAL == '6º TRIBUNAL DE JUICIO ORAL EN LO PENAL DE SANTIAGO',\n",
        "                           '6º TRIBUNAL DE JUICIO ORAL EN LO PENAL DE SAN MIGUEL',TRIBUNAL))"
      ],
      "metadata": {
        "id": "nfO6RNJGVCeS"
      },
      "execution_count": null,
      "outputs": []
    },
    {
      "cell_type": "code",
      "source": [
        "# -- 12 -- Limpieza de registros ----\n",
        "conduccion_2015_2023$TRIBUNAL1 <- conduccion_2015_2023$TRIBUNAL\n",
        "conduccion_2015_2023$TRIBUNAL<-gsub(\"JUZGADO DE GARANTÍA DE \",\"\",conduccion_2015_2023$TRIBUNAL)\n",
        "conduccion_2015_2023$TRIBUNAL<-gsub(\"TRIBUNAL DE JUICIO ORAL EN LO PENAL \",\"\",conduccion_2015_2023$TRIBUNAL)\n",
        "conduccion_2015_2023$TRIBUNAL<-gsub(\"JUZGADO DE LETRAS Y GARANTÍA DE \",\"\",conduccion_2015_2023$TRIBUNAL)\n",
        "conduccion_2015_2023$TRIBUNAL<-gsub(\"1º \",\"\",conduccion_2015_2023$TRIBUNAL)\n",
        "conduccion_2015_2023$TRIBUNAL<-gsub(\"JUZGADO DE GARANTIA DE \",\"\",conduccion_2015_2023$TRIBUNAL)\n",
        "conduccion_2015_2023$TRIBUNAL<-gsub(\"2º \",\"\",conduccion_2015_2023$TRIBUNAL)\n",
        "conduccion_2015_2023$TRIBUNAL<-gsub(\"3º \",\"\",conduccion_2015_2023$TRIBUNAL)\n",
        "conduccion_2015_2023$TRIBUNAL<-gsub(\"4º \",\"\",conduccion_2015_2023$TRIBUNAL)\n",
        "conduccion_2015_2023$TRIBUNAL<-gsub(\"5º \",\"\",conduccion_2015_2023$TRIBUNAL)\n",
        "conduccion_2015_2023$TRIBUNAL<-gsub(\"6º \",\"\",conduccion_2015_2023$TRIBUNAL)\n",
        "conduccion_2015_2023$TRIBUNAL<-gsub(\"7º \",\"\",conduccion_2015_2023$TRIBUNAL)\n",
        "conduccion_2015_2023$TRIBUNAL<-gsub(\"8º \",\"\",conduccion_2015_2023$TRIBUNAL)\n",
        "conduccion_2015_2023$TRIBUNAL<-gsub(\"9º \",\"\",conduccion_2015_2023$TRIBUNAL)\n",
        "conduccion_2015_2023$TRIBUNAL<-gsub(\"10º \",\"\",conduccion_2015_2023$TRIBUNAL)\n",
        "conduccion_2015_2023$TRIBUNAL<-gsub(\"11º \",\"\",conduccion_2015_2023$TRIBUNAL)\n",
        "conduccion_2015_2023$TRIBUNAL<-gsub(\"12º \",\"\",conduccion_2015_2023$TRIBUNAL)\n",
        "conduccion_2015_2023$TRIBUNAL<-gsub(\"13º \",\"\",conduccion_2015_2023$TRIBUNAL)\n",
        "conduccion_2015_2023$TRIBUNAL<-gsub(\"14º \",\"\",conduccion_2015_2023$TRIBUNAL)\n",
        "conduccion_2015_2023$TRIBUNAL<-gsub(\"15º \",\"\",conduccion_2015_2023$TRIBUNAL)\n",
        "conduccion_2015_2023$TRIBUNAL<-gsub(\"DE \",\"\",conduccion_2015_2023$TRIBUNAL)\n",
        "conduccion_2015_2023$TRIBUNAL<- gsub(\"\\\\.\", \"\", conduccion_2015_2023$TRIBUNAL)\n",
        "conduccion_2015_2023$TRIBUNAL<-gsub(\"JUZGADO LETRAS \",\"\",conduccion_2015_2023$TRIBUNAL)\n",
        "conduccion_2015_2023$TRIBUNAL<-gsub(\"1\",\"\",conduccion_2015_2023$TRIBUNAL)\n",
        "conduccion_2015_2023$TRIBUNAL<-gsub(\"TRIBUNAL ORAL EN LO PENAL \",\"\",conduccion_2015_2023$TRIBUNAL)\n",
        "conduccion_2015_2023$TRIBUNAL<-gsub(\"Y GARANTIA \",\"\",conduccion_2015_2023$TRIBUNAL)\n",
        "print(\"10. Limpieza de registros completada\")"
      ],
      "metadata": {
        "id": "FUkiwejOTs04",
        "colab": {
          "base_uri": "https://localhost:8080/"
        },
        "outputId": "082cb603-8268-43a6-db62-32a9514a8cfd"
      },
      "execution_count": null,
      "outputs": [
        {
          "output_type": "stream",
          "name": "stdout",
          "text": [
            "[1] \"10. Limpieza de registros completada\"\n"
          ]
        }
      ]
    },
    {
      "cell_type": "code",
      "source": [
        "# -- 13 -- Renombrando otras columnas: Cambia los nombres de las columnas \"TRIBUNAL\" a\n",
        "         # \"COMUNA\" y \"TRIBUNAL1\" en el DataFrame conduccion_2015_2023\n",
        "conduccion_2015_2023 <- rename(conduccion_2015_2023,\"COMUNA\" = \"TRIBUNAL\")\n",
        "conduccion_2015_2023 <- rename(conduccion_2015_2023,\"TRIBUNAL\" = \"TRIBUNAL1\")"
      ],
      "metadata": {
        "id": "B1tYNj2XTgVD"
      },
      "execution_count": null,
      "outputs": []
    },
    {
      "cell_type": "code",
      "source": [
        "# -- 14 -- Extrayendo mes de la columna MES INGRESO: Extrae solo el mes\n",
        "        # (dos últimos caracteres) de la columna \"MES INGRESO\n",
        "conduccion_2015_2023$`MES INGRESO` <- substr(conduccion_2015_2023$`MES INGRESO`, start = 6, stop = 7)"
      ],
      "metadata": {
        "id": "O-QvSEBVVLlK"
      },
      "execution_count": null,
      "outputs": []
    },
    {
      "cell_type": "code",
      "source": [
        "#  -- 15 -- Pasa todos los registros a MAYÚSCULA, sin tildes y mantiene la virgulilla de la ñ ----\n",
        "old_chars <- \"áéíóúÁÉÍÓÚ\"\n",
        "new_chars <- \"aeiouAEIOU\"\n",
        "columnas <- c(\"COMUNA\",\"MATERIA\", \"TRIBUNAL\")\n",
        "conduccion_2015_2023[columnas] <- lapply(conduccion_2015_2023[columnas], function(x) if(is.character(x)) chartr(old_chars, new_chars, toupper(x)) else x)"
      ],
      "metadata": {
        "id": "fsY83e2nVOAF"
      },
      "execution_count": null,
      "outputs": []
    },
    {
      "cell_type": "code",
      "source": [
        "# -- 16 -- Replicando los casos ingresados con el mismo codigo en un día: Duplica filas en\n",
        "         # función de los valores en la columna \"TOTAL INGRESOS POR MATERIAS\". Luego elimina esa columna.\n",
        "conduccion_2015_2023 <- conduccion_2015_2023[rep(row.names(conduccion_2015_2023), conduccion_2015_2023$`TOTAL INGRESOS POR MATERIAS`), ]\n",
        "conduccion_2015_2023 <- select(conduccion_2015_2023, -c(\"TOTAL INGRESOS POR MATERIAS\"))"
      ],
      "metadata": {
        "id": "lzfZBfS-VP8J"
      },
      "execution_count": null,
      "outputs": []
    },
    {
      "cell_type": "code",
      "source": [
        "# -- 17 -- Cambia 'ACHAO' a 'QUINCHAO' en la columna COMUNA\n",
        "conduccion_2015_2023 <- conduccion_2015_2023 %>%\n",
        "  mutate(COMUNA = ifelse(COMUNA == 'ACHAO', 'QUINCHAO', COMUNA))\n",
        "conduccion_2015_2023 <- conduccion_2015_2023 %>%\n",
        "  mutate(COMUNA = ifelse(COMUNA == 'PUERTO CISNES', 'CISNES', COMUNA))"
      ],
      "metadata": {
        "id": "tR5qw05WVR03"
      },
      "execution_count": null,
      "outputs": []
    },
    {
      "cell_type": "code",
      "source": [
        "# -- 18 -- Incorporando columna \"NOMBRE REGION\" / Carga y limpieza del nuevo DF ----\n",
        "         # Cargando datos que contienen principalmente dos columnas útiles para la correcta\n",
        "         # identificación entre Regiones y Comunas\n",
        "RRPC <- read_excel(\"/content/NEW_REGIONES_PROVINCIAS_COMUNAS.xlsx\",range = \"A2:D348\")\n",
        "\n",
        "RRPC <- rename(RRPC, \"NOMBRE COMUNA\" = \"Nombre Comuna\")\n",
        "RRPC <- rename(RRPC, \"NOMBRE REGION\" = \"Nombre Región desde 2018\")\n",
        "RRPC <- select(RRPC, -c(\"Código Comuna hasta 1999\"))\n",
        "RRPC <- select(RRPC, -c(\"Provincia desde 2018\"))"
      ],
      "metadata": {
        "id": "6vhEBGkRTKqt"
      },
      "execution_count": null,
      "outputs": []
    },
    {
      "cell_type": "code",
      "source": [
        "#  -- 19 -- Pasa todos los registros a MAYÚSCULA, sin tildes y mantiene la virgulilla de la ñ\n",
        "old_chars <- \"áéíóúÁÉÍÓÚ\"\n",
        "new_chars <- \"aeiouAEIOU\"\n",
        "colum <- c(\"NOMBRE COMUNA\",\"NOMBRE REGION\" )"
      ],
      "metadata": {
        "id": "QX-mKxT-Vhg-"
      },
      "execution_count": null,
      "outputs": []
    },
    {
      "cell_type": "code",
      "source": [
        "#  -- 20 -- Aplicando chart()\n",
        "RRPC[colum] <- lapply(RRPC[colum], function(x) if(is.character(x)) chartr(old_chars, new_chars, toupper(x)) else x)"
      ],
      "metadata": {
        "id": "1M74OQP0VlKt"
      },
      "execution_count": null,
      "outputs": []
    },
    {
      "cell_type": "code",
      "source": [
        "# -- 21 -- Nuevo DF llamado conduccion_V1 incorporado comunas, provincias y regiones ----\n",
        "conduccion_V1 <- merge(conduccion_2015_2023, RRPC, by.x = \"COMUNA\", by.y = \"NOMBRE COMUNA\", all = TRUE)\n",
        "conduccion_V1 <- rename(conduccion_V1, \"NOMBRE COMUNA\" = \"COMUNA\")"
      ],
      "metadata": {
        "id": "XnIXkTyBTVfM"
      },
      "execution_count": null,
      "outputs": []
    },
    {
      "cell_type": "code",
      "source": [
        "# -- 22 -- Limpieza de posibles registros vacíos: Elimina las filas que contienen valores\n",
        "         # NA en el DataFrame conduccion_V1.\n",
        "conduccion_sin_vacios <- na.omit(conduccion_V1, \"RIT\")\n",
        "conduccion_sin_vacios <- select(conduccion_sin_vacios, -c(\"RIT\"))"
      ],
      "metadata": {
        "id": "VS_Q-fNGVohV"
      },
      "execution_count": null,
      "outputs": []
    },
    {
      "cell_type": "code",
      "source": [
        "# -- 23 --  Exportación de datos en formato .xlsx para la posterior etapa de Procesamiento,\n",
        "          # visualización y exploración de Tendencias Frecuencistas: Exporta el DataFrame procesado y\n",
        "          # limpio como un archivo .xlsx.\n",
        "write_xlsx(conduccion_sin_vacios,\"conduccion_130823_2015_2023.xlsx\")\n",
        "print(\"Exportación de datos fue realizada con éxito\")"
      ],
      "metadata": {
        "id": "dZy69OzaVqiB",
        "colab": {
          "base_uri": "https://localhost:8080/"
        },
        "outputId": "fafb24e7-031d-4ed1-c2f5-cf9abff6ff5e"
      },
      "execution_count": null,
      "outputs": [
        {
          "output_type": "stream",
          "name": "stdout",
          "text": [
            "[1] \"Exportación de datos fue realizada con éxito\"\n"
          ]
        }
      ]
    }
  ]
}