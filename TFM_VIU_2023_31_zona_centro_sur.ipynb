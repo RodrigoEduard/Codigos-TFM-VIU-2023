{
  "nbformat": 4,
  "nbformat_minor": 0,
  "metadata": {
    "colab": {
      "provenance": [],
      "authorship_tag": "ABX9TyO8sckLbbbPk7k/znNsAPT7",
      "include_colab_link": true
    },
    "kernelspec": {
      "name": "python3",
      "display_name": "Python 3"
    },
    "language_info": {
      "name": "python"
    }
  },
  "cells": [
    {
      "cell_type": "markdown",
      "metadata": {
        "id": "view-in-github",
        "colab_type": "text"
      },
      "source": [
        "<a href=\"https://colab.research.google.com/github/RodrigoEduard/Codigos-TFM-VIU-2023/blob/Analisis_y_Visualizacion_de_Secuencias_Zona_Centro_Sur/TFM_VIU_2023_31_zona_centro_sur.ipynb\" target=\"_parent\"><img src=\"https://colab.research.google.com/assets/colab-badge.svg\" alt=\"Open In Colab\"/></a>"
      ]
    },
    {
      "cell_type": "code",
      "execution_count": null,
      "metadata": {
        "id": "CekAWzx9YEDY"
      },
      "outputs": [],
      "source": [
        "# ZONA 3: VI, VII, XVI, VIII (CENTRO SUR): 47 comunas\n",
        "#   DEL LIBERTADOR B. O'HIGGINS(10), DEL MAULE(11), DE ÑUBLE(6), DEL BIOBIO(20)\n",
        "\n",
        "library(readxl)\n",
        "ZCE <- read_excel(\"03-ZonaCentro.xlsx\")\n",
        "ZCE <- as.data.frame(ZCE)\n",
        "rownames(ZCE) <-  ZCE$Comuna\n",
        "# ************************************************************************\n",
        "library(TraMineR)\n",
        "seqstatl(ZCE[, 1:98])\n",
        "\n",
        "ZCE.alphabet <- c(\"sobre\",\"igual\",\"bajo\",\"sin_juzgado\")\n",
        "ZCE.labels <- c(\"Sobre\",\"Igual\",\"Bajo\",\"Sin juzgado\")\n",
        "ZCE.scodes <- c(\"SO\", \"IG\", \"BA\", \"SJ\")\n",
        "ZCE.seq <- seqdef(ZCE, 2:98, alphabet = ZCE.alphabet, states = ZCE.scodes,\n",
        "                  labels = ZCE.labels, xtstep = 4)\n",
        "colores <- c( \"#D98880\",\"#2980B9\",\"#73C6B6\",\"#EB984E\")  #Rojo, Azul, Verde, Naranja   https://htmlcolorcodes.com/\n",
        "\n",
        "# ***************Visualización de conjuntos de datos **********Visualize*************************\n",
        "dev.new()\n",
        "#par(mfrow = c(1, 1))\n",
        "par(mar = c(4.0, 8.0, 0.8, 0.2)) #inferior, izquierdo, superior y derecho\n",
        "\n",
        "#Primeras 10 secuencias **NO**\n",
        "#seqiplot(ZCE.seq, with.legend = FALSE, border = \"black\", ytlab = \"id\", ylas = 1, cex.axis = 0.5, xtlab = FALSE, cpal = colores, main = 'TITULO')\n",
        "#text(x = seq_along(colnames(ZCE.seq))-.5, y = par(\"usr\")[3] - 0.3, labels = colnames(ZCE.seq), srt = 90, adj = c(1, 0.5), xpd = TRUE, cex = 0.7)\n",
        "\n",
        "#Todas las secuencias **SI**\n",
        "seqIplot(ZCE.seq, with.legend = FALSE, border = \"grey\", ytlab = \"id\", ylas = 1, ylab = \"\", cex.axis = 0.6 , xtlab = FALSE, cpal = colores, main = 'all sequences: 47 seq. (n=47)', xtstep = 2)\n",
        "text(x = seq(1, length(colnames(ZCE.seq)), by = 2)-.5, y = par(\"usr\")[3] - 1.2, labels = colnames(ZCE.seq)[seq(1, length(colnames(ZCE.seq)), by = 2)], srt = 90, adj = c(1, 0.5), xpd = TRUE, cex = 1.1)\n",
        "\n",
        "#10 secuencias más frecuentes **NO**\n",
        "#seqfplot(ZCE.seq, with.legend = FALSE, border = \"black\", cpal = colores, main = 'alguna')\n",
        "\n",
        "#Leyendas\n",
        "seqlegend(ZCE.seq, cpal = colores)\n",
        "\n",
        "# Cálculo y visualización de estadísticas descriptivas *******Describe******************\n",
        "dev.new()\n",
        "#par(mfrow = c(1, 1))\n",
        "par(mar = c(5.2, 2.0, 2.0, 0.0)) #inferior, izquierdo, superior y derecho\n",
        "\n",
        "#Distribución de estados (Porcentaje de cada estado en el tiempo) **SI**\n",
        "seqdplot(ZCE.seq, with.legend = FALSE, border = \"grey\", cpal = colores, main = \"Rel. Freq.(n=47)\", ylab= \" \",xtlab = FALSE, cex.axis = 1.1);\n",
        "grid(nx = 0, ny = NULL, lty = 2, col = \"black\", lwd = 1)\n",
        "axis(side = 1, at = seq(1, length(colnames(ZCE.seq)), by = 2)-.5, labels = colnames(ZCE.seq)[seq(1, length(colnames(ZCE.seq)), by = 2)], las = 2, cex.axis = 1.1)\n",
        "\n",
        "#   Entropía  **NO**\n",
        "#seqHtplot(ZCE.seq, main=\"TITULO\"); grid(col = \"red\")\n",
        "par(mar = c(5.2, 3.0, 2.0, 0.0)) #inferior, izquierdo, superior y derecho\n",
        "seqmsplot(ZCE.seq, info = FALSE, with.legend = FALSE, border = \"grey\", cpal = colores, main = \"State freq. (n=47)\", ylab= \" \", xtlab = FALSE, cex.axis = 1.2, ytstep = 2)\n",
        "grid(nx = 0, ny = 12, lty = 2, col = \"black\", lwd = 1)\n",
        "axis(side = 1, at = seq(1, length(colnames(ZCE.seq)), by = 2)-0.5, labels = colnames(ZCE.seq)[seq(1, length(colnames(ZCE.seq)), by = 2)], las = 2, cex.axis = 1.1, line = 0.6)\n",
        "\n",
        "\n",
        "# Typology**************************************************************Typology********\n",
        "dev.new()\n",
        "par(mar = c(6.0, 5.0, 4.0, 0.2)) #inferior, izquierdo, superior y derecho\n",
        "dist.om1 <- seqdist(ZCE.seq, method = \"OM\", indel = 1, sm = \"TRATE\")\n",
        "library(cluster)\n",
        "clusterward1 <- agnes(dist.om1, diss = TRUE, method = \"ward\")\n",
        "\n",
        "plot(clusterward1, which.plot = 2)\n",
        "\n",
        "rect.hclust(clusterward1,k=4, border=\"red\")\n",
        "cl1.4 <- cutree(clusterward1, k = 4)\n",
        "cl1.4fac <- factor(cl1.4, labels = paste(\"Type\", 1:4))\n",
        "#seqIplot(ZCE.seq, group = cl1.4fac, sortv = \"from.start\", border = \"black\",cpal = colores)\n",
        "par(mar = c(6.0, 2.0, 4.0, 0.2)) #inferior, izquierdo, superior y derecho\n",
        "\n",
        "seqdplot(ZCE.seq[cl1.4fac == \"Type 1\",], group = cl1.4fac[cl1.4fac == \"Type 1\"], border = \"grey\",cpal = colores, with.legend = FALSE, ylab= \" \",xtlab = FALSE, cex.axis = 1.2);\n",
        "grid(nx = 0, ny =10, lty = 2, col = \"black\", lwd = 1)\n",
        "axis(side = 1, at = seq(1, length(colnames(ZCE.seq)), by = 2)-.5, labels = colnames(ZCE.seq)[seq(1, length(colnames(ZCE.seq)), by = 2)], las = 2, cex.axis = 1.1)\n",
        "\n",
        "seqdplot(ZCE.seq[cl1.4fac == \"Type 2\",], group = cl1.4fac[cl1.4fac == \"Type 2\"], border = \"grey\",cpal = colores, with.legend = FALSE, ylab= \" \",xtlab = FALSE, cex.axis = 1.2);\n",
        "grid(nx = 0, ny =10, lty = 2, col = \"black\", lwd = 1)\n",
        "axis(side = 1, at = seq(1, length(colnames(ZCE.seq)), by = 2)-.5, labels = colnames(ZCE.seq)[seq(1, length(colnames(ZCE.seq)), by = 2)], las = 2, cex.axis = 1.1)\n",
        "\n",
        "\n",
        "seqdplot(ZCE.seq[cl1.4fac == \"Type 3\",], group = cl1.4fac[cl1.4fac == \"Type 3\"], border = \"grey\",cpal = colores, with.legend = FALSE, ylab= \" \",xtlab = FALSE, cex.axis = 1.2);\n",
        "grid(nx = 0, ny = NULL, lty = 2, col = \"black\", lwd = 1)\n",
        "axis(side = 1, at = seq(1, length(colnames(ZCE.seq)), by = 2)-.5, labels = colnames(ZCE.seq)[seq(1, length(colnames(ZCE.seq)), by = 2)], las = 2, cex.axis = 1.1)\n",
        "\n",
        "seqdplot(ZCE.seq[cl1.4fac == \"Type 4\",], group = cl1.4fac[cl1.4fac == \"Type 4\"], border = \"grey\",cpal = colores, with.legend = FALSE, ylab= \" \",xtlab = FALSE, cex.axis = 1.2);\n",
        "grid(nx = 0, ny = NULL, lty = 2, col = \"black\", lwd = 1)\n",
        "axis(side = 1, at = seq(1, length(colnames(ZCE.seq)), by = 2)-.5, labels = colnames(ZCE.seq)[seq(1, length(colnames(ZCE.seq)), by = 2)], las = 2, cex.axis = 1.1)"
      ]
    }
  ]
}