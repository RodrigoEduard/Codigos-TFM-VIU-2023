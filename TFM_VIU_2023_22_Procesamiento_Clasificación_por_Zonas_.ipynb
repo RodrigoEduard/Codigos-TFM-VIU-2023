{
  "nbformat": 4,
  "nbformat_minor": 0,
  "metadata": {
    "colab": {
      "provenance": [],
      "authorship_tag": "ABX9TyNSNeEKyrt5br1NBhRQj6l8"
    },
    "kernelspec": {
      "name": "ir",
      "display_name": "R"
    },
    "language_info": {
      "name": "R"
    }
  },
  "cells": [
    {
      "cell_type": "code",
      "source": [
        "# -----------------------------------------------------------------------\n",
        "# Script para clasificación de la mediana y TOP 3 por zonas.\n",
        "#\n",
        "# Autor: Rodrigo Hernández A.\n",
        "# Fecha: 2 de Octubre, 2023.\n",
        "# Tutora: Dra. Nery Sofía Huerta.\n",
        "#\n",
        "# Descripción:\n",
        "# Este script realiza la clasificación de la mediana para comunas por su zona y\n",
        "# obtener el top 3 de las comunas con más ingresos de registros (por zonas).\n",
        "#\n",
        "# Código desarrollado en lenguaje R en el entorno R de Google Colab.\n",
        "# Proyecto: TFM - Máster en Big Data y Ciencia de Datos - Universidad Internacional de\n",
        "# Valencia (VIU)\n",
        "# -----------------------------------------------------------------------\n",
        "#\n",
        "#Distribuciones de regiones por cada una de las zonas\n",
        "#\n",
        "# Zona 1 (Norte): XV, I, II, III, IV: 24 comunas con juzgados\n",
        "#     DE ARICA Y PARINACOTA(1 comuna), DE TARAPACA(3 comunas), DE ANTOFAGASTA(6 comunas),\n",
        "#     DE ATACAMA(6 comunas), DE COQUIMBO(8 comunas)\n",
        "# Zona 2: V, RM (Centro Metropolitana): 24 comunas\n",
        "#     DE VALPARAISO(16 comunas), METROPOLITANA DE SANTIAGO(8 comunas))\n",
        "# Zona 3: VI, VII, VII, XVI, VIII (Centro Sur): 47 comunas\n",
        "#     DEL LIBERTADOR B. O'HIGGINS(10 comunas), DEL MAULE(11 comunas), DE ÑUBLE(6 comunas),\n",
        "#     DEL BIOBIO(20 comunas)\n",
        "# Zona 4: IX, XIV, X (Sur): 35 comunas\n",
        "#     DE LA ARAUCANIA(15 comunas), DE LOS RIOS(7 comunas), DE LOS LAGOS(13 comunas)\n",
        "# Zona 5 (Austral): XI y XII: 9\n",
        "#     DE AISEN DEL GRAL. C. IBAÑEZ DEL CAMPO(5 comunas), DE MAGALLANES Y DE LA ANTARTICA\n",
        "#     CHILENA(4 comunas)\n",
        "#---------------------------------------------------------------------"
      ],
      "metadata": {
        "id": "5Fnthjjg--kF"
      },
      "execution_count": 1,
      "outputs": []
    },
    {
      "cell_type": "code",
      "source": [
        "# -- 1 -- Instalación de paquetes necesarios ----\n",
        "install.packages(\"tidyverse\")\n",
        "install.packages(\"writexl\")\n",
        "install.packages(\"dplyr\")"
      ],
      "metadata": {
        "colab": {
          "base_uri": "https://localhost:8080/"
        },
        "id": "AWp9_aNGOSpO",
        "outputId": "67c0614e-77c5-4b1f-b9da-ee4a97706cbb"
      },
      "execution_count": 2,
      "outputs": [
        {
          "output_type": "stream",
          "name": "stderr",
          "text": [
            "Installing package into ‘/usr/local/lib/R/site-library’\n",
            "(as ‘lib’ is unspecified)\n",
            "\n",
            "Installing package into ‘/usr/local/lib/R/site-library’\n",
            "(as ‘lib’ is unspecified)\n",
            "\n",
            "Installing package into ‘/usr/local/lib/R/site-library’\n",
            "(as ‘lib’ is unspecified)\n",
            "\n"
          ]
        }
      ]
    },
    {
      "cell_type": "code",
      "source": [
        "# -- 2 -- Importación de paquetes necesarios ----\n",
        "library(readxl)\n",
        "library(tidyverse)\n",
        "library(writexl)"
      ],
      "metadata": {
        "colab": {
          "base_uri": "https://localhost:8080/"
        },
        "id": "pQcgOtIuOlzy",
        "outputId": "640a5fb9-fe03-43d0-a145-3fdb4f821bdc"
      },
      "execution_count": 3,
      "outputs": [
        {
          "output_type": "stream",
          "name": "stderr",
          "text": [
            "── \u001b[1mAttaching core tidyverse packages\u001b[22m ──────────────────────── tidyverse 2.0.0 ──\n",
            "\u001b[32m✔\u001b[39m \u001b[34mdplyr    \u001b[39m 1.1.3     \u001b[32m✔\u001b[39m \u001b[34mreadr    \u001b[39m 2.1.4\n",
            "\u001b[32m✔\u001b[39m \u001b[34mforcats  \u001b[39m 1.0.0     \u001b[32m✔\u001b[39m \u001b[34mstringr  \u001b[39m 1.5.0\n",
            "\u001b[32m✔\u001b[39m \u001b[34mggplot2  \u001b[39m 3.4.3     \u001b[32m✔\u001b[39m \u001b[34mtibble   \u001b[39m 3.2.1\n",
            "\u001b[32m✔\u001b[39m \u001b[34mlubridate\u001b[39m 1.9.2     \u001b[32m✔\u001b[39m \u001b[34mtidyr    \u001b[39m 1.3.0\n",
            "\u001b[32m✔\u001b[39m \u001b[34mpurrr    \u001b[39m 1.0.2     \n",
            "── \u001b[1mConflicts\u001b[22m ────────────────────────────────────────── tidyverse_conflicts() ──\n",
            "\u001b[31m✖\u001b[39m \u001b[34mdplyr\u001b[39m::\u001b[32mfilter()\u001b[39m masks \u001b[34mstats\u001b[39m::filter()\n",
            "\u001b[31m✖\u001b[39m \u001b[34mdplyr\u001b[39m::\u001b[32mlag()\u001b[39m    masks \u001b[34mstats\u001b[39m::lag()\n",
            "\u001b[36mℹ\u001b[39m Use the conflicted package (\u001b[3m\u001b[34m<http://conflicted.r-lib.org/>\u001b[39m\u001b[23m) to force all conflicts to become errors\n"
          ]
        }
      ]
    },
    {
      "cell_type": "code",
      "source": [
        "# --- Carga y preparación de datos ---\n",
        "#Fuente de datos: Proviene de la exportación del script proviene del anterior:\n",
        "#    https://github.com/RodrigoEduard/Codigos-TFM-VIU-2023/blob/Procesamiento_y_Limpieza_de_Datos/TFM_VIU_2023_11_Procesamiento_y_Limpieza.ipynb\n",
        "#Descarga alternativa:\n",
        "#    https://docs.google.com/spreadsheets/d/1zHnctwCKipKhKd9b8bucCGNlwfqfMalI\n",
        "zonas <- read_excel(\"/content/conduccion_130823_2015_2023.xlsx\")\n",
        "zonas$`MES INGRESO` <- as.numeric(zonas$`MES INGRESO`)\n",
        "# Nueva columna 'FECHA' combinando 'AÑO INGRESO' y 'MES INGRESO' en el formato \"Mmm.AA\". Ejwmplo: Enero de 2015: Ene.15\n",
        "zonas$FECHA <- paste('a', substr(zonas$`AÑO INGRESO`, 3, 4), '.', sprintf(\"%02d\", zonas$`MES INGRESO`), sep = \"\")\n",
        "zonas$FECHA <- paste(zonas$`AÑO INGRESO`, sprintf(\"%02d\", zonas$`MES INGRESO`), sep = \".\")"
      ],
      "metadata": {
        "id": "P1pQIzWISece"
      },
      "execution_count": 4,
      "outputs": []
    },
    {
      "cell_type": "code",
      "execution_count": 5,
      "metadata": {
        "id": "7GrFzMm3HJEv"
      },
      "outputs": [],
      "source": [
        "# Zona 1 (Norte): XV, I, II, III, IV: 24 comunas con juzgados\n",
        "# Filtro y tabulación de datos\n",
        "regiones <- c('DE ARICA Y PARINACOTA', 'DE TARAPACA', 'DE ANTOFAGASTA','DE ATACAMA', 'DE COQUIMBO')\n",
        "dat <- subset(zonas, `NOMBRE REGION` %in% regiones)\n",
        "dat = table(dat$`NOMBRE COMUNA`,dat$`FECHA`)"
      ]
    },
    {
      "cell_type": "code",
      "source": [
        "# Calculo de frecuencias relativas\n",
        "pde_f = 100*(dat/rowSums(dat))\n",
        "pde_f = as.data.frame(pde_f)"
      ],
      "metadata": {
        "id": "riY4YHGISNVO"
      },
      "execution_count": 6,
      "outputs": []
    },
    {
      "cell_type": "code",
      "source": [
        "# Clasificar frecuencias en relación a la mediana\n",
        "max = max(pde_f[,3],na.rm=T)\n",
        "max = round(max,digits = 0)\n",
        "mediana = median(pde_f[,3],na.rm=T)\n",
        "pde_f$clase = 0\n",
        "pde_f$clase[pde_f$Freq == mediana] <- 'igual'\n",
        "pde_f$clase[pde_f$Freq > mediana] <- 'sobre'\n",
        "pde_f$clase[pde_f$Freq < mediana] <- 'bajo'"
      ],
      "metadata": {
        "id": "1NxB8O6eTryJ"
      },
      "execution_count": 7,
      "outputs": []
    },
    {
      "cell_type": "code",
      "source": [
        "# Reorganizar y pivotar el dataframe\n",
        "ZNO1 <- pde_f %>%\n",
        "  rename(Comuna = Var1) %>%\n",
        "  group_by(Comuna, Var2) %>%\n",
        "  summarise(clase = first(clase), .groups = \"drop\") %>%\n",
        "  pivot_wider(names_from = Var2, values_from = clase)"
      ],
      "metadata": {
        "id": "lsGge52nUID8"
      },
      "execution_count": 8,
      "outputs": []
    },
    {
      "cell_type": "code",
      "source": [
        "# Ajuste de nombres de fechas\n",
        "nombres_columnas <- colnames(ZNO1)[-1]  # Se toma los nombres de las columnas excepto \"Comuna\"\n",
        "partes <- strsplit(nombres_columnas, \"\\\\.\") # Separación en años y meses usando el delimitador \".\"\n",
        "años <- sapply(partes, `[`, 1)\n",
        "meses <- sapply(partes, `[`, 2)\n",
        "meses_abreviados <- months(as.Date(paste0(años, \"-\", meses, \"-01\")), abbreviate = TRUE) # Convertir los números de meses a abreviaturas de meses\n",
        "# Combinando las abreviaturas de los meses con los años\n",
        "nuevos_nombres_columnas <- c(\"Comuna\", paste0(toupper(substr(meses_abreviados, 1, 1)), tolower(substr(meses_abreviados, 2, 3)), \".\", substr(años, 3, 4)))\n",
        "colnames(ZNO1) <- nuevos_nombres_columnas # Asignando los nuevos nombres de columnas a ZNO1\n",
        "\n",
        "ZNO1 <- ZNO1 %>%\n",
        "  select(Comuna, one_of(nuevos_nombres_columnas))"
      ],
      "metadata": {
        "id": "C3SLaK1WULkj"
      },
      "execution_count": 9,
      "outputs": []
    },
    {
      "cell_type": "code",
      "source": [
        "# Ajuste de nombres de comunas\n",
        "# (Para comunas de Alto Hospicio y Mejillones que no existían antes de Noviembre 2016)\n",
        "comunas_ajustar <- c(\"ALTO HOSPICIO\", \"MEJILLONES\")\n",
        "meses_ajustar <- c(paste0(toupper(substr(months(as.Date(paste0(\"20\", rep(15, times = 12), \"-\", sprintf(\"%02d\", 1:12), \"-01\")), abbreviate = TRUE), 1, 1)),\n",
        "                          tolower(substr(months(as.Date(paste0(\"20\", rep(15, times = 12), \"-\", sprintf(\"%02d\", 1:12), \"-01\")), abbreviate = TRUE), 2, 3)), \".15\"),\n",
        "                   paste0(toupper(substr(months(as.Date(paste0(\"20\", rep(16, times = 10), \"-\", sprintf(\"%02d\", 1:10), \"-01\")), abbreviate = TRUE), 1, 1)),\n",
        "                          tolower(substr(months(as.Date(paste0(\"20\", rep(16, times = 10), \"-\", sprintf(\"%02d\", 1:10), \"-01\")), abbreviate = TRUE), 2, 3)), \".16\"))\n",
        "\n",
        "ZNO1 <- as.data.frame(ZNO1)\n",
        "for (comuna in comunas_ajustar) {\n",
        "  for (mes in meses_ajustar) {\n",
        "    ZNO1[ZNO1$Comuna == comuna, mes] <- \"sin_juzgado\"\n",
        "  }\n",
        "}"
      ],
      "metadata": {
        "id": "ReQcgdtOmEfF"
      },
      "execution_count": null,
      "outputs": []
    },
    {
      "cell_type": "code",
      "source": [
        "#Obtención del Top 3 de las comunas con más registros\n",
        "pde_suma <- as.data.frame(rowSums(dat))\n",
        "pde_suma$NombreDeLaColumna <- rownames(pde_suma)\n",
        "rownames(pde_suma) <- NULL\n",
        "pde_suma <- pde_suma[, c(\"NombreDeLaColumna\", \"rowSums(dat)\")]\n",
        "colnames(pde_suma) <- c(\"Comuna\", \"Frecuencia\")\n",
        "\n",
        "pde_suma_ordenado <- pde_suma[order(-pde_suma$Frecuencia), ]\n",
        "top_3_comunas <- pde_suma_ordenado[1:3, ]\n",
        "print(top_3_comunas)"
      ],
      "metadata": {
        "colab": {
          "base_uri": "https://localhost:8080/"
        },
        "id": "waQ_1aO_U-dI",
        "outputId": "877ca58c-cced-4f99-bee6-1837b244267e"
      },
      "execution_count": 10,
      "outputs": [
        {
          "output_type": "stream",
          "name": "stdout",
          "text": [
            "        Comuna Frecuencia\n",
            "4        ARICA       9353\n",
            "14     IQUIQUE       9132\n",
            "3  ANTOFAGASTA       7774\n"
          ]
        }
      ]
    },
    {
      "cell_type": "code",
      "source": [
        "# Exportación del dataframe ZNO1 en un archivo Excel\n",
        "library(writexl)\n",
        "write_xlsx(ZNO1,\"01-zonaNorte.xlsx\")"
      ],
      "metadata": {
        "id": "0mcUojpWVC2r"
      },
      "execution_count": 11,
      "outputs": []
    },
    {
      "cell_type": "code",
      "source": [
        "# ZONA 2: V, RM (CENTRO-METROPOLITANA): 24 comunas\n",
        "#   DE VALPARAISO(16), METROPOLITANA DE SANTIAGO(8))\n",
        "regiones <- c('DE VALPARAISO','METROPOLITANA DE SANTIAGO')\n",
        "dat <- subset(zonas, `NOMBRE REGION` %in% regiones)\n",
        "dat = table(dat$`NOMBRE COMUNA`,dat$`FECHA`)"
      ],
      "metadata": {
        "id": "ZJsJM8fViiD5"
      },
      "execution_count": null,
      "outputs": []
    },
    {
      "cell_type": "code",
      "source": [
        "# Calculo de frecuencias relativas\n",
        "pde_f = 100*(dat/rowSums(dat))\n",
        "pde_f = as.data.frame(pde_f)"
      ],
      "metadata": {
        "id": "dCSuMBfei0UT"
      },
      "execution_count": null,
      "outputs": []
    },
    {
      "cell_type": "code",
      "source": [
        "# Clasificar frecuencias en relación a la mediana\n",
        "max = max(pde_f[,3],na.rm=T)\n",
        "max = round(max,digits = 0)\n",
        "mediana = median(pde_f[,3],na.rm=T)\n",
        "pde_f$clase = 0\n",
        "pde_f$clase[pde_f$Freq == mediana] <- 'igual'\n",
        "pde_f$clase[pde_f$Freq > mediana] <- 'sobre'\n",
        "pde_f$clase[pde_f$Freq < mediana] <- 'bajo'"
      ],
      "metadata": {
        "id": "wDsbFMY3oG2K"
      },
      "execution_count": null,
      "outputs": []
    },
    {
      "cell_type": "code",
      "source": [
        "# Reorganizar y pivotar el dataframe\n",
        "ZCM2 <- pde_f %>%\n",
        "  rename(Comuna = Var1) %>%\n",
        "  group_by(Comuna, Var2) %>%\n",
        "  summarise(clase = first(clase), .groups = \"drop\") %>%\n",
        "  pivot_wider(names_from = Var2, values_from = clase)"
      ],
      "metadata": {
        "id": "LiibTQIeoJ07"
      },
      "execution_count": null,
      "outputs": []
    },
    {
      "cell_type": "code",
      "source": [
        "# Ajuste de nombres de fechas\n",
        "nombres_columnas <- colnames(ZCM2)[-1]  # Se toma los nombres de las columnas excepto \"Comuna\"\n",
        "partes <- strsplit(nombres_columnas, \"\\\\.\") # Separación en años y meses usando el delimitador \".\"\n",
        "años <- sapply(partes, `[`, 1)\n",
        "meses <- sapply(partes, `[`, 2)\n",
        "meses_abreviados <- months(as.Date(paste0(años, \"-\", meses, \"-01\")), abbreviate = TRUE) # Convertir los números de meses a abreviaturas de meses\n",
        "nuevos_nombres_columnas <- c(\"Comuna\", paste0(toupper(substr(meses_abreviados, 1, 1)), tolower(substr(meses_abreviados, 2, 3)), \".\", substr(años, 3, 4)))\n",
        "colnames(ZCM2) <- nuevos_nombres_columnas # Asignando los nuevos nombres de columnas a ZCM2\n",
        "\n",
        "ZCM2 <- ZCM2 %>%\n",
        "  select(Comuna, one_of(nuevos_nombres_columnas))"
      ],
      "metadata": {
        "id": "8gntaoPzoM_O"
      },
      "execution_count": null,
      "outputs": []
    },
    {
      "cell_type": "code",
      "source": [
        "#Obtención del Top 3 de las comunas con más registros\n",
        "pde_suma <- as.data.frame(rowSums(dat))\n",
        "pde_suma$NombreDeLaColumna <- rownames(pde_suma)\n",
        "rownames(pde_suma) <- NULL\n",
        "pde_suma <- pde_suma[, c(\"NombreDeLaColumna\", \"rowSums(dat)\")]\n",
        "colnames(pde_suma) <- c(\"Comuna\", \"Frecuencia\")\n",
        "\n",
        "pde_suma_ordenado <- pde_suma[order(-pde_suma$Frecuencia), ]\n",
        "top_3_comunas <- pde_suma_ordenado[1:3, ]\n",
        "print(top_3_comunas)"
      ],
      "metadata": {
        "id": "BOBDCbNZobC2"
      },
      "execution_count": null,
      "outputs": []
    },
    {
      "cell_type": "code",
      "source": [
        "# Exportación del dataframe ZNO1 en un archivo Excel\n",
        "library(writexl)\n",
        "write_xlsx(ZCM2,\"02-zonaCentroMetropolitana.xlsx\")"
      ],
      "metadata": {
        "id": "vgoSX54Ioqrz"
      },
      "execution_count": null,
      "outputs": []
    }
  ]
}