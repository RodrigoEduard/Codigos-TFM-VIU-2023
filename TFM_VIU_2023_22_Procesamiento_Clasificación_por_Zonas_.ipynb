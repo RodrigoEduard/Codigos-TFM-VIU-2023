{
  "nbformat": 4,
  "nbformat_minor": 0,
  "metadata": {
    "colab": {
      "provenance": [],
      "authorship_tag": "ABX9TyMUu3eplaISF5O1LcibBsiR"
    },
    "kernelspec": {
      "name": "ir",
      "display_name": "R"
    },
    "language_info": {
      "name": "R"
    }
  },
  "cells": [
    {
      "cell_type": "markdown",
      "source": [
        "---\n",
        "## Script para clasificación de la mediana.\n",
        "## TOP 3 de comunas con mayores ingresos de registros (por zonas).\n",
        "\n",
        "---\n",
        "\n",
        "**Autor**: Rodrigo Hernández A.  \n",
        "**Tutora**: Dra. Nery Sofía Huerta.  \n",
        "**Fecha**: 2 de Octubre, 2023.  \n",
        "\n",
        "---\n",
        "\n",
        "### Descripción:\n",
        "Este script realiza la clasificación de la mediana para comunas por su zona y obtener el top 3 de las comunas con más ingresos de registros (por zonas).\n",
        "\n",
        "**Entorno**: R en Google Colab  \n",
        "**Proyecto**: TFM - Máster en Big Data y Ciencia de Datos - Universidad Internacional de Valencia (VIU)\n",
        "\n",
        "---"
      ],
      "metadata": {
        "id": "NZ-SE1rs_KUg"
      }
    },
    {
      "cell_type": "code",
      "source": [
        "# ---- Instalación de paquetes necesarios ----\n",
        "install.packages(\"readxl\")\n",
        "install.packages(\"tidyverse\")\n",
        "install.packages(\"writexl\")"
      ],
      "metadata": {
        "colab": {
          "base_uri": "https://localhost:8080/"
        },
        "id": "AWp9_aNGOSpO",
        "outputId": "26baded2-ac6d-4d1c-9787-42bc23332acf"
      },
      "execution_count": 32,
      "outputs": [
        {
          "output_type": "stream",
          "name": "stderr",
          "text": [
            "Installing package into ‘/usr/local/lib/R/site-library’\n",
            "(as ‘lib’ is unspecified)\n",
            "\n",
            "Installing package into ‘/usr/local/lib/R/site-library’\n",
            "(as ‘lib’ is unspecified)\n",
            "\n",
            "Installing package into ‘/usr/local/lib/R/site-library’\n",
            "(as ‘lib’ is unspecified)\n",
            "\n"
          ]
        }
      ]
    },
    {
      "cell_type": "code",
      "source": [
        "# ---- Importación de paquetes necesarios ----\n",
        "library(readxl)\n",
        "library(tidyverse)\n",
        "library(writexl)"
      ],
      "metadata": {
        "id": "pQcgOtIuOlzy"
      },
      "execution_count": 33,
      "outputs": []
    },
    {
      "cell_type": "code",
      "source": [
        "# Función para cargar y preparar los datos iniciales\n",
        "cargar_y_preparar_datos <- function(file_path) {\n",
        "  zonas <- read_excel(file_path)\n",
        "  zonas$`MES INGRESO` <- as.numeric(zonas$`MES INGRESO`)\n",
        "  zonas$FECHA <- paste(zonas$`AÑO INGRESO`, sprintf(\"%02d\", zonas$`MES INGRESO`), sep = \".\")\n",
        "  return(zonas)\n",
        "}\n",
        "\n",
        "# Función para procesar datos por regiones\n",
        "procesar_datos <- function(zonas, regiones) {\n",
        "  # Tabulación de datos\n",
        "  dat <- subset(zonas, `NOMBRE REGION` %in% regiones)\n",
        "  dat = table(dat$`NOMBRE COMUNA`,dat$`FECHA`)\n",
        "  # Calculo de frecuencias relativas\n",
        "  pde_f = 100*(dat/rowSums(dat))\n",
        "  pde_f = as.data.frame(pde_f)\n",
        "  # Clasificar frecuencias en relación a la mediana\n",
        "  max = max(pde_f[,3],na.rm=T)\n",
        "  mediana = median(pde_f[,3],na.rm=T)\n",
        "  pde_f$clase = ifelse(pde_f$Freq == mediana, 'igual',\n",
        "                  ifelse(pde_f$Freq > mediana, 'sobre', 'bajo'))\n",
        "  # Reorganizar y pivotar el dataframe\n",
        "  df <- pde_f %>%\n",
        "    rename(Comuna = Var1) %>%\n",
        "    group_by(Comuna, Var2) %>%\n",
        "    summarise(clase = first(clase), .groups = \"drop\") %>%\n",
        "    pivot_wider(names_from = Var2, values_from = clase)\n",
        "  # Ajuste de nombres de fechas\n",
        "  nombres_columnas <- colnames(df)[-1]   # Se toma los nombres de las columnas excepto \"Comuna\"\n",
        "  partes <- strsplit(nombres_columnas, \"\\\\.\")  # Separación en años y meses usando punto como delimitador \".\"\n",
        "  años <- sapply(partes, `[`, 1)\n",
        "  meses <- sapply(partes, `[`, 2)\n",
        "  # Convertir los números de meses a abreviaturas\n",
        "  meses_abreviados <- months(as.Date(paste0(años, \"-\", meses, \"-01\")), abbreviate = TRUE)\n",
        "  # Combinando las abreviaturas de los meses con los años\n",
        "  nuevos_nombres_columnas <- c(\"Comuna\", paste0(toupper(substr(meses_abreviados, 1, 1)), tolower(substr(meses_abreviados, 2, 3)), \".\", substr(años, 3, 4)))\n",
        "  colnames(df) <- nuevos_nombres_columnas\n",
        "\n",
        "  df <- df %>% select(Comuna, one_of(nuevos_nombres_columnas))\n",
        "\n",
        "  return(df)\n",
        "}\n",
        "\n",
        "# --- MAIN ---\n",
        "\n",
        "# ---- Carga y preparación de datos ---\n",
        "#Fuente de datos: Proviene de la exportación del script proviene del anterior:\n",
        "#    https://github.com/RodrigoEduard/Codigos-TFM-VIU-2023/blob/Procesamiento_y_Limpieza_de_Datos/TFM_VIU_2023_11_Procesamiento_y_Limpieza.ipynb\n",
        "#Descarga alternativa:\n",
        "#    https://docs.google.com/spreadsheets/d/1zHnctwCKipKhKd9b8bucCGNlwfqfMalI\n",
        "\n",
        "zonas <- cargar_y_preparar_datos(\"/content/conduccion_130823_2015_2023.xlsx\")\n",
        "\n",
        "# Zona 1 (Norte): XV, I, II, III, IV: 24 comunas con juzgados\n",
        "regiones_norte <- c('DE ARICA Y PARINACOTA', 'DE TARAPACA', 'DE ANTOFAGASTA','DE ATACAMA', 'DE COQUIMBO')\n",
        "ZNO <- procesar_datos(zonas, regiones_norte)\n",
        "#TRATAMIENTO ESPECIAL PARA LAS COMUNAS SIN JUZGADOS (PERIODO: ENE.2015 A NOV.2016)\n",
        "comunas_ajustar <- c(\"ALTO HOSPICIO\", \"MEJILLONES\")\n",
        "meses_ajustar <- c(paste0(toupper(substr(months(as.Date(paste0(\"20\", rep(15, times = 12), \"-\", sprintf(\"%02d\", 1:12), \"-01\")), abbreviate = TRUE), 1, 1)),\n",
        "                          tolower(substr(months(as.Date(paste0(\"20\", rep(15, times = 12), \"-\", sprintf(\"%02d\", 1:12), \"-01\")), abbreviate = TRUE), 2, 3)), \".15\"),\n",
        "                   paste0(toupper(substr(months(as.Date(paste0(\"20\", rep(16, times = 10), \"-\", sprintf(\"%02d\", 1:10), \"-01\")), abbreviate = TRUE), 1, 1)),\n",
        "                          tolower(substr(months(as.Date(paste0(\"20\", rep(16, times = 10), \"-\", sprintf(\"%02d\", 1:10), \"-01\")), abbreviate = TRUE), 2, 3)), \".16\"))\n",
        "ZNO <- as.data.frame(ZNO)\n",
        "for (comuna in comunas_ajustar) {\n",
        "  for (mes in meses_ajustar) {\n",
        "    ZNO[ZNO1$Comuna == comuna, mes] <- \"sin_juzgado\"\n",
        "  }\n",
        "}\n",
        "\n",
        "# Zona 2: V, RM (Centro Metropolitana): 24 comunas con juzgados\n",
        "regiones_centro_metro <- c('DE VALPARAISO','METROPOLITANA DE SANTIAGO')\n",
        "ZCM <- procesar_datos(zonas, regiones_centro_metro)\n",
        "\n",
        "# Zona 3: VI, VII, VII, XVI, VIII (Centro Sur): 47 comunas con juzgados\n",
        "regiones_centro_sur <- c(\"DEL LIBERTADOR B. O'HIGGINS\",'DEL MAULE','DE ÑUBLE','DEL BIOBIO')\n",
        "ZCE <- procesar_datos(zonas, regiones_centro_sur)\n",
        "\n",
        "# Zona 4: IX, XIV, X (Sur): 35 comunas con juzgados\n",
        "regiones_sur <- c(\"DE LA ARAUCANIA\",'DE LOS RIOS','DE LOS LAGOS')\n",
        "ZSU <- procesar_datos(zonas, regiones_sur)\n",
        "\n",
        "# Zona 5 (Austral): XI y XII: 9 comunas con juzgados\n",
        "regiones_austral <- c('DE AISEN DEL GRAL. C. IBAÑEZ DEL CAMPO','DE MAGALLANES Y DE LA ANTARTICA CHILENA')\n",
        "ZAU <- procesar_datos(zonas, regiones_austral)\n",
        "#TRATAMIENTO ESPECIAL PARA LA COMUNA SIN JUZGADOS (PERIODO: ENE.2015 A NOV.2016)\n",
        "comunas_ajustar <- c(\"CABO HORNOS\")\n",
        "meses_ajustar <- c(paste0(toupper(substr(months(as.Date(paste0(\"20\", rep(15, times = 12), \"-\", sprintf(\"%02d\", 1:12), \"-01\")), abbreviate = TRUE), 1, 1)),\n",
        "                          tolower(substr(months(as.Date(paste0(\"20\", rep(15, times = 12), \"-\", sprintf(\"%02d\", 1:12), \"-01\")), abbreviate = TRUE), 2, 3)), \".15\"),\n",
        "                   paste0(toupper(substr(months(as.Date(paste0(\"20\", rep(16, times = 10), \"-\", sprintf(\"%02d\", 1:10), \"-01\")), abbreviate = TRUE), 1, 1)),\n",
        "                          tolower(substr(months(as.Date(paste0(\"20\", rep(16, times = 10), \"-\", sprintf(\"%02d\", 1:10), \"-01\")), abbreviate = TRUE), 2, 3)), \".16\"))\n",
        "ZAU <- as.data.frame(ZAU)\n",
        "for (comuna in comunas_ajustar) {\n",
        "  for (mes in meses_ajustar) {\n",
        "    ZAU[ZAU$Comuna == comuna, mes] <- \"sin_juzgado\"\n",
        "  }\n",
        "}\n",
        "\n",
        "write_xlsx(ZNO,\"01-zonaNorte.xlsx\")\n",
        "write_xlsx(ZCM,\"02-zonaCentroMetropolitana.xlsx\")\n",
        "write_xlsx(ZCE,\"03-ZonaCentro.xlsx\")\n",
        "write_xlsx(ZSU,\"04-ZonaSur.xlsx\")\n",
        "write_xlsx(ZSU,\"05-ZonaSurAustral.xlsx\")\n"
      ],
      "metadata": {
        "id": "3bVekHCV0Hj-"
      },
      "execution_count": 34,
      "outputs": []
    },
    {
      "cell_type": "code",
      "source": [
        "#Obtención del Top 3 de las comunas con más registros\n",
        "obtener_top3_comunas <- function(zonas, regiones, zona_nombre) {\n",
        "  dat <- subset(zonas, `NOMBRE REGION` %in% regiones)\n",
        "  dat = table(dat$`NOMBRE COMUNA`, dat$`FECHA`)\n",
        "\n",
        "  pde_suma <- as.data.frame(rowSums(dat))\n",
        "  pde_suma$NombreDeLaColumna <- rownames(pde_suma)\n",
        "  rownames(pde_suma) <- NULL\n",
        "  pde_suma <- pde_suma[, c(\"NombreDeLaColumna\", \"rowSums(dat)\")]\n",
        "  colnames(pde_suma) <- c(\"Comuna\", \"Frecuencia\")\n",
        "\n",
        "  pde_suma_ordenado <- pde_suma[order(-pde_suma$Frecuencia), ]\n",
        "  top_3_comunas <- pde_suma_ordenado[1:3, ]\n",
        "\n",
        "  # Reasigna los nombres de las filas\n",
        "  rownames(top_3_comunas) <- NULL\n",
        "\n",
        "  cat(\"\\n\", zona_nombre, \"fueron:\\n\")\n",
        "  print(top_3_comunas)\n",
        "}\n",
        "\n",
        "# Uso de la función\n",
        "regiones_norte <- c('DE ARICA Y PARINACOTA', 'DE TARAPACA', 'DE ANTOFAGASTA','DE ATACAMA', 'DE COQUIMBO')\n",
        "regiones_centro_metro <- c('DE VALPARAISO','METROPOLITANA DE SANTIAGO')\n",
        "regiones_centro_sur <- c(\"DEL LIBERTADOR B. O'HIGGINS\",'DEL MAULE','DE ÑUBLE','DEL BIOBIO')\n",
        "regiones_centro_sur <- c(\"DE LA ARAUCANIA\",'DE LOS RIOS','DE LOS LAGOS')\n",
        "regiones_centro_sur <- c('DE AISEN DEL GRAL. C. IBAÑEZ DEL CAMPO','DE MAGALLANES Y DE LA ANTARTICA CHILENA')\n",
        "print(\"Top 3 de las comunas con mayor cantidad de ingresos\")\n",
        "obtener_top3_comunas(zonas, regiones_norte, \"zona Norte\")\n",
        "obtener_top3_comunas(zonas, regiones_centro_metro, \"Zona Centro Metropolitana\")\n",
        "obtener_top3_comunas(zonas, regiones_centro_sur, \"Zona Centro Sur\")\n",
        "obtener_top3_comunas(zonas, regiones_centro_sur, \"Zona Sur\")\n",
        "obtener_top3_comunas(zonas, regiones_centro_sur, \"Zona Austral\")"
      ],
      "metadata": {
        "id": "BOBDCbNZobC2",
        "colab": {
          "base_uri": "https://localhost:8080/"
        },
        "outputId": "8e0c4330-bd1c-4ee0-c1b2-f95e7f75e7b0"
      },
      "execution_count": 35,
      "outputs": [
        {
          "output_type": "stream",
          "name": "stdout",
          "text": [
            "[1] \"Top 3 de las comunas con mayor cantidad de ingresos\"\n",
            "\n",
            " zona Norte fueron:\n",
            "       Comuna Frecuencia\n",
            "1       ARICA       9353\n",
            "2     IQUIQUE       9132\n",
            "3 ANTOFAGASTA       7774\n",
            "\n",
            " Zona Centro Metropolitana fueron:\n",
            "        Comuna Frecuencia\n",
            "1     SANTIAGO      35059\n",
            "2 VIÑA DEL MAR       4306\n",
            "3 SAN BERNARDO       4053\n",
            "\n",
            " Zona Centro Sur fueron:\n",
            "        Comuna Frecuencia\n",
            "1 PUNTA ARENAS       4608\n",
            "2    COYHAIQUE       2668\n",
            "3 PUERTO AYSEN       1025\n",
            "\n",
            " Zona Sur fueron:\n",
            "        Comuna Frecuencia\n",
            "1 PUNTA ARENAS       4608\n",
            "2    COYHAIQUE       2668\n",
            "3 PUERTO AYSEN       1025\n",
            "\n",
            " Zona Austral fueron:\n",
            "        Comuna Frecuencia\n",
            "1 PUNTA ARENAS       4608\n",
            "2    COYHAIQUE       2668\n",
            "3 PUERTO AYSEN       1025\n"
          ]
        }
      ]
    }
  ]
}